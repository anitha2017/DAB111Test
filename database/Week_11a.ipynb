{
 "cells": [
  {
   "cell_type": "markdown",
   "metadata": {},
   "source": [
    "## Week 11a: SQLite database"
   ]
  },
  {
   "cell_type": "code",
   "execution_count": 2,
   "metadata": {
    "tags": []
   },
   "outputs": [],
   "source": [
    "##SQLite is a C-language library that implements a small, fast, self-contained, high-reliability, \n",
    "#full-featured, SQL database engine. SQLite is the most used database engine in the world. SQLite is built into all mobile phones and most computers and comes \n",
    "#bundled inside countless other applications that people use every day. More Information...\n",
    "import sqlite3\n",
    "import csv "
   ]
  },
  {
   "cell_type": "markdown",
   "metadata": {},
   "source": [
    "#### Establish a connection"
   ]
  },
  {
   "cell_type": "code",
   "execution_count": 3,
   "metadata": {
    "tags": []
   },
   "outputs": [],
   "source": [
    "#con = sqlite3.connect('School.db', autocommit=False)\n",
    "#autocommit is in new python version\n",
    "conn = sqlite3.connect('School.db')\n",
    "cursor = conn.cursor()"
   ]
  },
  {
   "cell_type": "markdown",
   "metadata": {},
   "source": [
    "#### Create a table"
   ]
  },
  {
   "cell_type": "code",
   "execution_count": 5,
   "metadata": {
    "tags": []
   },
   "outputs": [
    {
     "data": {
      "text/plain": [
       "<sqlite3.Cursor at 0x237cb9c23c0>"
      ]
     },
     "execution_count": 5,
     "metadata": {},
     "output_type": "execute_result"
    }
   ],
   "source": [
    "create_table = \"\"\"CREATE TABLE students(\n",
    "                        id INTEGER PRIMARY KEY,\n",
    "                        fname TEXT,\n",
    "                        lname TEXT);\n",
    "                \"\"\"\n",
    "\n",
    "cursor.execute(create_table)"
   ]
  },
  {
   "cell_type": "markdown",
   "metadata": {},
   "source": [
    "#### Insert data"
   ]
  },
  {
   "cell_type": "code",
   "execution_count": null,
   "metadata": {
    "tags": []
   },
   "outputs": [],
   "source": [
    "cursor.execute(\"INSERT INTO students VALUES (387423, 'Patrick', 'Ramos')\")"
   ]
  },
  {
   "cell_type": "markdown",
   "metadata": {},
   "source": [
    "#### Query the table"
   ]
  },
  {
   "cell_type": "code",
   "execution_count": null,
   "metadata": {
    "tags": []
   },
   "outputs": [],
   "source": [
    "results = cursor.execute(\"SELECT * FROM students\")\n",
    "print(type(results))\n",
    "for res in results:\n",
    "    print(res)"
   ]
  },
  {
   "cell_type": "code",
   "execution_count": null,
   "metadata": {
    "tags": []
   },
   "outputs": [],
   "source": [
    "results = cursor.execute(\"SELECT * FROM students\").fetchall()\n",
    "results"
   ]
  },
  {
   "cell_type": "markdown",
   "metadata": {},
   "source": [
    "#### Close the connection"
   ]
  },
  {
   "cell_type": "code",
   "execution_count": null,
   "metadata": {
    "tags": []
   },
   "outputs": [],
   "source": [
    "con.commit()\n",
    "con.close()"
   ]
  },
  {
   "cell_type": "code",
   "execution_count": null,
   "metadata": {
    "tags": []
   },
   "outputs": [],
   "source": [
    "for res in results:\n",
    "    print(res)"
   ]
  },
  {
   "cell_type": "code",
   "execution_count": null,
   "metadata": {
    "tags": []
   },
   "outputs": [],
   "source": [
    "results = cursor.execute(\"SELECT * FROM students\").fetchall()\n",
    "results"
   ]
  },
  {
   "cell_type": "markdown",
   "metadata": {},
   "source": [
    "#### Reestablish connection"
   ]
  },
  {
   "cell_type": "code",
   "execution_count": 10,
   "metadata": {
    "tags": []
   },
   "outputs": [],
   "source": [
    "new_con = sqlite3.Connection('School.db')#, autocommit=False)\n",
    "new_cursor = new_con.cursor()"
   ]
  },
  {
   "cell_type": "code",
   "execution_count": 11,
   "metadata": {
    "tags": []
   },
   "outputs": [
    {
     "data": {
      "text/plain": [
       "[(211134, 'Samantha', 'Peterson'),\n",
       " (264676, 'Margaret', 'Brooks'),\n",
       " (387423, 'Patrick', 'Ramos'),\n",
       " (399844, 'Pamela', 'Campbell'),\n",
       " (518833, 'Judith', 'Mendoza'),\n",
       " (657953, 'Walter', 'King'),\n",
       " (660198, 'Justin', 'Kelly'),\n",
       " (669408, 'Victoria', 'Lee'),\n",
       " (705400, 'Betty', 'Murphy'),\n",
       " (962205, 'Emily', 'Reed')]"
      ]
     },
     "execution_count": 11,
     "metadata": {},
     "output_type": "execute_result"
    }
   ],
   "source": [
    "results = new_cursor.execute(\"SELECT * FROM students\").fetchall()\n",
    "results"
   ]
  },
  {
   "cell_type": "code",
   "execution_count": 12,
   "metadata": {
    "tags": []
   },
   "outputs": [],
   "source": [
    "new_con.close()"
   ]
  },
  {
   "cell_type": "markdown",
   "metadata": {},
   "source": [
    "#### Redo with `commit`"
   ]
  },
  {
   "cell_type": "code",
   "execution_count": null,
   "metadata": {},
   "outputs": [],
   "source": [
    "conn.commit()"
   ]
  },
  {
   "cell_type": "markdown",
   "metadata": {},
   "source": [
    "#### Check if something is in process"
   ]
  },
  {
   "cell_type": "code",
   "execution_count": null,
   "metadata": {},
   "outputs": [],
   "source": [
    "con.in_transaction"
   ]
  },
  {
   "cell_type": "code",
   "execution_count": null,
   "metadata": {},
   "outputs": [],
   "source": [
    "con.total_changes"
   ]
  },
  {
   "cell_type": "markdown",
   "metadata": {},
   "source": [
    "#### Insert data from csv"
   ]
  },
  {
   "cell_type": "code",
   "execution_count": 7,
   "metadata": {
    "tags": []
   },
   "outputs": [
    {
     "data": {
      "text/plain": [
       "[(211134, 'Samantha', 'Peterson'),\n",
       " (264676, 'Margaret', 'Brooks'),\n",
       " (387423, 'Patrick', 'Ramos'),\n",
       " (399844, 'Pamela', 'Campbell'),\n",
       " (518833, 'Judith', 'Mendoza'),\n",
       " (657953, 'Walter', 'King'),\n",
       " (660198, 'Justin', 'Kelly'),\n",
       " (669408, 'Victoria', 'Lee'),\n",
       " (705400, 'Betty', 'Murphy'),\n",
       " (962205, 'Emily', 'Reed')]"
      ]
     },
     "execution_count": 7,
     "metadata": {},
     "output_type": "execute_result"
    }
   ],
   "source": [
    "##connecting\n",
    "conn = sqlite3.connect('School.db')\n",
    "conn\n",
    "cursor = conn.cursor()"
   ]
  },
  {
   "cell_type": "code",
   "execution_count": null,
   "metadata": {},
   "outputs": [],
   "source": [
    "#fetching data\n",
    "results =cursor.execute('select *from students').fetchall()\n",
    "results"
   ]
  },
  {
   "cell_type": "code",
   "execution_count": null,
   "metadata": {
    "tags": []
   },
   "outputs": [],
   "source": [
    "with open(\"students_1.csv\") as f:\n",
    "    data = csv.reader(f)\n",
    "    for row in data:\n",
    "        print(row)"
   ]
  },
  {
   "cell_type": "code",
   "execution_count": null,
   "metadata": {
    "tags": []
   },
   "outputs": [],
   "source": [
    "with open(\"students_1.csv\") as f:\n",
    "    data = csv.reader(f)\n",
    "    for row in data:\n",
    "        if row[0]=='fname':\n",
    "            continue\n",
    "        print(row)"
   ]
  },
  {
   "cell_type": "code",
   "execution_count": 6,
   "metadata": {
    "tags": []
   },
   "outputs": [],
   "source": [
    "##inserting data\n",
    "with open(\"students_1.csv\") as f:\n",
    "    data = csv.reader(f)\n",
    "    for row in data:\n",
    "        if row[0]=='fname':\n",
    "            continue\n",
    "        cursor.execute(\"INSERT INTO students VALUES (?,?,?)\", (row[2], row[0], row[1]))"
   ]
  },
  {
   "cell_type": "code",
   "execution_count": 13,
   "metadata": {
    "tags": []
   },
   "outputs": [
    {
     "ename": "ProgrammingError",
     "evalue": "Cannot operate on a closed database.",
     "output_type": "error",
     "traceback": [
      "\u001b[1;31m---------------------------------------------------------------------------\u001b[0m",
      "\u001b[1;31mProgrammingError\u001b[0m                          Traceback (most recent call last)",
      "Cell \u001b[1;32mIn[13], line 2\u001b[0m\n\u001b[0;32m      1\u001b[0m \u001b[38;5;66;03m##closing\u001b[39;00m\n\u001b[1;32m----> 2\u001b[0m conn\u001b[38;5;241m.\u001b[39mcommit()\n\u001b[0;32m      3\u001b[0m conn\u001b[38;5;241m.\u001b[39mclose()\n\u001b[0;32m      4\u001b[0m new_con\u001b[38;5;241m.\u001b[39mclose()\n",
      "\u001b[1;31mProgrammingError\u001b[0m: Cannot operate on a closed database."
     ]
    }
   ],
   "source": [
    "##closing\n",
    "conn.commit()\n",
    "conn.close()\n",
    "new_con.close()"
   ]
  },
  {
   "cell_type": "code",
   "execution_count": null,
   "metadata": {
    "tags": []
   },
   "outputs": [],
   "source": [
    "# ##comment/uncomment - control + / (forward slash)\n",
    "# with open(\"students_1.csv\") as f:\n",
    "#     data = csv.reader(f)\n",
    "#     for row in data:\n",
    "#         # if row[0]=='fname':\n",
    "#         #     continue\n",
    "#         # cursor.execute(\"INSERT INTO students VALUES (?, ?, ?)\", (int(row[2]), row[0], row[1]))"
   ]
  },
  {
   "cell_type": "code",
   "execution_count": null,
   "metadata": {
    "tags": []
   },
   "outputs": [],
   "source": [
    "drop_table = \"\"\"DROP TABLE students\"\"\"\n",
    "cursor.execute(drop_table)\n",
    "#con.commit()"
   ]
  },
  {
   "cell_type": "markdown",
   "metadata": {},
   "source": [
    "#### Delete database"
   ]
  },
  {
   "cell_type": "code",
   "execution_count": null,
   "metadata": {},
   "outputs": [],
   "source": []
  },
  {
   "cell_type": "markdown",
   "metadata": {},
   "source": [
    "### Exercises\n",
    "\n",
    " - recreate the database called `School` with a table called `students`; add the `students_1.csv` data back into the table\n",
    " - add the students in the `students_2.csv` file to the `students` table in the database\n",
    " - in the `School` database, create a new table called `marks` and add the data in the `marks.csv`file to it"
   ]
  },
  {
   "cell_type": "code",
   "execution_count": 34,
   "metadata": {
    "tags": []
   },
   "outputs": [],
   "source": [
    "import sqlite3\n",
    "import csv"
   ]
  },
  {
   "cell_type": "code",
   "execution_count": 35,
   "metadata": {
    "tags": []
   },
   "outputs": [],
   "source": [
    "conn=sqlite3.connect('School.db')\n",
    "cursor=conn.cursor()"
   ]
  },
  {
   "cell_type": "code",
   "execution_count": 36,
   "metadata": {
    "tags": []
   },
   "outputs": [
    {
     "data": {
      "text/plain": [
       "<sqlite3.Cursor at 0x237cc708c40>"
      ]
     },
     "execution_count": 36,
     "metadata": {},
     "output_type": "execute_result"
    }
   ],
   "source": [
    "create_table=\"\"\" CREATE TABLE students(\n",
    "                 id INTEGER PRIMARY KEY,\n",
    "                 fname TEXT,\n",
    "                 lname TEXT)\n",
    "             \"\"\"\n",
    "\n",
    "cursor.execute(create_table)"
   ]
  },
  {
   "cell_type": "code",
   "execution_count": 37,
   "metadata": {
    "tags": []
   },
   "outputs": [
    {
     "data": {
      "text/plain": [
       "[]"
      ]
     },
     "execution_count": 37,
     "metadata": {},
     "output_type": "execute_result"
    }
   ],
   "source": [
    "cursor.execute('select *from students').fetchall()"
   ]
  },
  {
   "cell_type": "code",
   "execution_count": 38,
   "metadata": {
    "tags": []
   },
   "outputs": [],
   "source": [
    "filename='students_1.csv'"
   ]
  },
  {
   "cell_type": "code",
   "execution_count": 42,
   "metadata": {
    "tags": []
   },
   "outputs": [
    {
     "name": "stdout",
     "output_type": "stream",
     "text": [
      "['fname', 'lname', 'ID']\n",
      "['Patrick', 'Ramos', '387423']\n",
      "['Walter', 'King', '657953']\n",
      "['Margaret', 'Brooks', '264676']\n",
      "['Betty', 'Murphy', '705400']\n",
      "['Pamela', 'Campbell', '399844']\n",
      "['Victoria', 'Lee', '669408']\n",
      "['Samantha', 'Peterson', '211134']\n",
      "['Judith', 'Mendoza', '518833']\n",
      "['Emily', 'Reed', '962205']\n",
      "['Justin', 'Kelly', '660198']\n"
     ]
    }
   ],
   "source": [
    "with open(filename) as f:\n",
    "    data = csv.reader(f)\n",
    "    for row in data:\n",
    "        print(row)\n",
    "        if row[0]=='fname':\n",
    "            continue\n",
    "        cursor.execute(\"\"\"INSERT INTO STUDENTS(id,fname,lname) VALUES(?,?,?)\"\"\",(row[2],row[0],row[1]))"
   ]
  },
  {
   "cell_type": "code",
   "execution_count": 43,
   "metadata": {
    "tags": []
   },
   "outputs": [
    {
     "data": {
      "text/plain": [
       "[(211134, 'Samantha', 'Peterson'),\n",
       " (264676, 'Margaret', 'Brooks'),\n",
       " (387423, 'Patrick', 'Ramos'),\n",
       " (399844, 'Pamela', 'Campbell'),\n",
       " (518833, 'Judith', 'Mendoza'),\n",
       " (657953, 'Walter', 'King'),\n",
       " (660198, 'Justin', 'Kelly'),\n",
       " (669408, 'Victoria', 'Lee'),\n",
       " (705400, 'Betty', 'Murphy'),\n",
       " (962205, 'Emily', 'Reed')]"
      ]
     },
     "execution_count": 43,
     "metadata": {},
     "output_type": "execute_result"
    }
   ],
   "source": [
    "cursor.execute('select *from students').fetchall()"
   ]
  },
  {
   "cell_type": "code",
   "execution_count": 44,
   "metadata": {
    "tags": []
   },
   "outputs": [],
   "source": [
    "conn.commit()"
   ]
  },
  {
   "cell_type": "code",
   "execution_count": 45,
   "metadata": {
    "tags": []
   },
   "outputs": [
    {
     "data": {
      "text/plain": [
       "[(211134, 'Samantha', 'Peterson'),\n",
       " (264676, 'Margaret', 'Brooks'),\n",
       " (387423, 'Patrick', 'Ramos'),\n",
       " (399844, 'Pamela', 'Campbell'),\n",
       " (518833, 'Judith', 'Mendoza'),\n",
       " (657953, 'Walter', 'King'),\n",
       " (660198, 'Justin', 'Kelly'),\n",
       " (669408, 'Victoria', 'Lee'),\n",
       " (705400, 'Betty', 'Murphy'),\n",
       " (962205, 'Emily', 'Reed')]"
      ]
     },
     "execution_count": 45,
     "metadata": {},
     "output_type": "execute_result"
    }
   ],
   "source": [
    "cursor.execute('select *from students').fetchall()"
   ]
  },
  {
   "cell_type": "code",
   "execution_count": 49,
   "metadata": {
    "tags": []
   },
   "outputs": [
    {
     "name": "stdout",
     "output_type": "stream",
     "text": [
      "['Randy', 'Martinez', '122942']\n",
      "['Russell', 'Williams', '223293']\n",
      "['Deborah', 'Nguyen', '329265']\n",
      "['Eugene', 'Hill', '174267']\n",
      "['John', 'Nguyen', '650755']\n",
      "['Tyler', 'Taylor', '380016']\n",
      "['Catherine', 'Cox', '677895']\n",
      "['Matthew', 'Collins', '253798']\n",
      "['Billy', 'Ortiz', '400412']\n",
      "['Gary', 'Patel', '784736']\n"
     ]
    }
   ],
   "source": [
    "filename2 =\"students_2.csv\"\n",
    "with open(filename2) as f:\n",
    "    data =csv.reader(f)\n",
    "    for row in data:\n",
    "        if row[0]=='fname':\n",
    "            continue\n",
    "        print(row)\n",
    "        cursor.execute(\"INSERT into students(id, fname, lname) VALUES(?,?,?)\",(row[2],row[0],row[1]))"
   ]
  },
  {
   "cell_type": "code",
   "execution_count": 50,
   "metadata": {
    "tags": []
   },
   "outputs": [
    {
     "data": {
      "text/plain": [
       "[(122942, 'Randy', 'Martinez'),\n",
       " (174267, 'Eugene', 'Hill'),\n",
       " (211134, 'Samantha', 'Peterson'),\n",
       " (223293, 'Russell', 'Williams'),\n",
       " (253798, 'Matthew', 'Collins'),\n",
       " (264676, 'Margaret', 'Brooks'),\n",
       " (329265, 'Deborah', 'Nguyen'),\n",
       " (380016, 'Tyler', 'Taylor'),\n",
       " (387423, 'Patrick', 'Ramos'),\n",
       " (399844, 'Pamela', 'Campbell'),\n",
       " (400412, 'Billy', 'Ortiz'),\n",
       " (518833, 'Judith', 'Mendoza'),\n",
       " (650755, 'John', 'Nguyen'),\n",
       " (657953, 'Walter', 'King'),\n",
       " (660198, 'Justin', 'Kelly'),\n",
       " (669408, 'Victoria', 'Lee'),\n",
       " (677895, 'Catherine', 'Cox'),\n",
       " (705400, 'Betty', 'Murphy'),\n",
       " (784736, 'Gary', 'Patel'),\n",
       " (962205, 'Emily', 'Reed')]"
      ]
     },
     "execution_count": 50,
     "metadata": {},
     "output_type": "execute_result"
    }
   ],
   "source": [
    "cursor.execute(\"SELECT *from students\").fetchall()"
   ]
  },
  {
   "cell_type": "code",
   "execution_count": 51,
   "metadata": {
    "tags": []
   },
   "outputs": [],
   "source": [
    "conn.commit()\n",
    "conn.close()"
   ]
  },
  {
   "cell_type": "code",
   "execution_count": null,
   "metadata": {},
   "outputs": [],
   "source": [
    "## Add marks table"
   ]
  },
  {
   "cell_type": "code",
   "execution_count": 60,
   "metadata": {
    "tags": []
   },
   "outputs": [],
   "source": [
    "conn= sqlite3.connect('School.db')\n",
    "cursor=conn.cursor()"
   ]
  },
  {
   "cell_type": "code",
   "execution_count": 62,
   "metadata": {
    "tags": []
   },
   "outputs": [
    {
     "data": {
      "text/plain": [
       "<sqlite3.Cursor at 0x237cc9d9bc0>"
      ]
     },
     "execution_count": 62,
     "metadata": {},
     "output_type": "execute_result"
    }
   ],
   "source": [
    "cursor.execute(\"\"\" CREATE TABLE marks (\n",
    "                    id INTEGER PRIMARY KEY,\n",
    "                    test_1 INTEGER,\n",
    "                    test_2 INTEGER,\n",
    "                    test_3 INTEGER\n",
    "                    )\n",
    "                \"\"\" )"
   ]
  },
  {
   "cell_type": "code",
   "execution_count": 66,
   "metadata": {
    "tags": []
   },
   "outputs": [],
   "source": [
    "filename3 = 'marks.csv'\n",
    "with open(filename3) as f:\n",
    "    data =csv.reader(f)\n",
    "    for row in data:\n",
    "        if row[0]=='ID':\n",
    "            continue\n",
    "        cursor.execute(\"INSERT into marks (id, test_1,test_2,test_3) VALUES (?,?,?,?)\", (row[0],row[1],row[2],row[3]))\n"
   ]
  },
  {
   "cell_type": "code",
   "execution_count": 67,
   "metadata": {
    "tags": []
   },
   "outputs": [
    {
     "data": {
      "text/plain": [
       "[(122942, 58, 86, 77),\n",
       " (174267, 95, 47, 79),\n",
       " (211134, 80, 81, 55),\n",
       " (223293, 75, 53, 60),\n",
       " (253798, 17, 88, 16),\n",
       " (264676, 26, 53, 58),\n",
       " (329265, 91, 47, 42),\n",
       " (380016, 1, 62, 61),\n",
       " (387423, 31, 65, 76),\n",
       " (399844, 3, 27, 80),\n",
       " (400412, 87, 39, 86),\n",
       " (518833, 32, 35, 29),\n",
       " (650755, 76, 84, 22),\n",
       " (657953, 38, 10, 75),\n",
       " (660198, 69, 17, 12),\n",
       " (669408, 4, 88, 90),\n",
       " (677895, 20, 57, 89),\n",
       " (705400, 12, 40, 69),\n",
       " (784736, 8, 30, 74),\n",
       " (962205, 58, 39, 74)]"
      ]
     },
     "execution_count": 67,
     "metadata": {},
     "output_type": "execute_result"
    }
   ],
   "source": [
    "cursor.execute(\"SELECT *from marks\").fetchall()"
   ]
  },
  {
   "cell_type": "code",
   "execution_count": 69,
   "metadata": {
    "tags": []
   },
   "outputs": [],
   "source": [
    "conn.commit()"
   ]
  },
  {
   "cell_type": "code",
   "execution_count": 70,
   "metadata": {
    "tags": []
   },
   "outputs": [],
   "source": [
    "cursor.close()\n",
    "conn.close()"
   ]
  },
  {
   "cell_type": "code",
   "execution_count": 85,
   "metadata": {
    "tags": []
   },
   "outputs": [
    {
     "name": "stdout",
     "output_type": "stream",
     "text": [
      "<class 'list'>\n",
      "Test_1\n"
     ]
    }
   ],
   "source": [
    "filename3 = 'marks.csv'\n",
    "with open(filename3) as f:\n",
    "    data =csv.reader(f)\n",
    "    for row in data:\n",
    "        print(type(row))\n",
    "        print(row[1])\n",
    "        break"
   ]
  },
  {
   "cell_type": "code",
   "execution_count": 98,
   "metadata": {
    "tags": []
   },
   "outputs": [],
   "source": [
    "conn= sqlite3.connect('School.db')\n",
    "cursor=conn.cursor()"
   ]
  },
  {
   "cell_type": "code",
   "execution_count": 99,
   "metadata": {
    "tags": []
   },
   "outputs": [
    {
     "data": {
      "text/plain": [
       "[(122942, 58, 86, 77),\n",
       " (174267, 95, 47, 79),\n",
       " (211134, 80, 81, 55),\n",
       " (223293, 75, 53, 60),\n",
       " (253798, 17, 88, 16),\n",
       " (264676, 26, 53, 58),\n",
       " (329265, 91, 47, 42),\n",
       " (380016, 1, 62, 61),\n",
       " (387423, 31, 65, 76),\n",
       " (399844, 3, 27, 80),\n",
       " (400412, 87, 39, 86),\n",
       " (518833, 32, 35, 29),\n",
       " (650755, 76, 84, 22),\n",
       " (657953, 38, 10, 75),\n",
       " (660198, 69, 17, 12),\n",
       " (669408, 4, 88, 90),\n",
       " (677895, 20, 57, 89),\n",
       " (705400, 12, 40, 69),\n",
       " (784736, 8, 30, 74),\n",
       " (962205, 58, 39, 74)]"
      ]
     },
     "execution_count": 99,
     "metadata": {},
     "output_type": "execute_result"
    }
   ],
   "source": [
    "cursor.execute(\"Select *from marks\").fetchall()"
   ]
  },
  {
   "cell_type": "code",
   "execution_count": 100,
   "metadata": {
    "tags": []
   },
   "outputs": [
    {
     "ename": "OperationalError",
     "evalue": "database is locked",
     "output_type": "error",
     "traceback": [
      "\u001b[1;31m---------------------------------------------------------------------------\u001b[0m",
      "\u001b[1;31mOperationalError\u001b[0m                          Traceback (most recent call last)",
      "Cell \u001b[1;32mIn[100], line 1\u001b[0m\n\u001b[1;32m----> 1\u001b[0m cursor\u001b[38;5;241m.\u001b[39mexecute(\u001b[38;5;124m\"\u001b[39m\u001b[38;5;124mINSERT into marks (id, test_1,test_2,test_3) VALUES (?,?,?,?)\u001b[39m\u001b[38;5;124m\"\u001b[39m, (\u001b[38;5;241m123456\u001b[39m,\u001b[38;5;241m12\u001b[39m,\u001b[38;5;241m23\u001b[39m,\u001b[38;5;241m34\u001b[39m))\n",
      "\u001b[1;31mOperationalError\u001b[0m: database is locked"
     ]
    }
   ],
   "source": [
    "cursor.execute(\"INSERT into marks (id, test_1,test_2,test_3) VALUES (?,?,?,?)\", (123456,12,23,34))"
   ]
  },
  {
   "cell_type": "code",
   "execution_count": 101,
   "metadata": {
    "tags": []
   },
   "outputs": [],
   "source": [
    "conn.rollback()\n",
    "cursor.close()\n",
    "conn.close()"
   ]
  },
  {
   "cell_type": "code",
   "execution_count": 102,
   "metadata": {
    "tags": []
   },
   "outputs": [],
   "source": [
    "conn= sqlite3.connect('School.db')\n",
    "cursor=conn.cursor()"
   ]
  },
  {
   "cell_type": "code",
   "execution_count": 103,
   "metadata": {
    "tags": []
   },
   "outputs": [
    {
     "data": {
      "text/plain": [
       "[(122942, 58, 86, 77),\n",
       " (174267, 95, 47, 79),\n",
       " (211134, 80, 81, 55),\n",
       " (223293, 75, 53, 60),\n",
       " (253798, 17, 88, 16),\n",
       " (264676, 26, 53, 58),\n",
       " (329265, 91, 47, 42),\n",
       " (380016, 1, 62, 61),\n",
       " (387423, 31, 65, 76),\n",
       " (399844, 3, 27, 80),\n",
       " (400412, 87, 39, 86),\n",
       " (518833, 32, 35, 29),\n",
       " (650755, 76, 84, 22),\n",
       " (657953, 38, 10, 75),\n",
       " (660198, 69, 17, 12),\n",
       " (669408, 4, 88, 90),\n",
       " (677895, 20, 57, 89),\n",
       " (705400, 12, 40, 69),\n",
       " (784736, 8, 30, 74),\n",
       " (962205, 58, 39, 74)]"
      ]
     },
     "execution_count": 103,
     "metadata": {},
     "output_type": "execute_result"
    }
   ],
   "source": [
    "cursor.execute(\"Select *from marks\").fetchall()"
   ]
  },
  {
   "cell_type": "code",
   "execution_count": 107,
   "metadata": {
    "tags": []
   },
   "outputs": [
    {
     "ename": "OperationalError",
     "evalue": "database is locked",
     "output_type": "error",
     "traceback": [
      "\u001b[1;31m---------------------------------------------------------------------------\u001b[0m",
      "\u001b[1;31mOperationalError\u001b[0m                          Traceback (most recent call last)",
      "Cell \u001b[1;32mIn[107], line 1\u001b[0m\n\u001b[1;32m----> 1\u001b[0m cursor\u001b[38;5;241m.\u001b[39mexecute(\u001b[38;5;124m\"\u001b[39m\u001b[38;5;124mINSERT into marks (id, test_1,test_2,test_3) VALUES (?,?,?,?)\u001b[39m\u001b[38;5;124m\"\u001b[39m, (\u001b[38;5;241m123456\u001b[39m,\u001b[38;5;241m12\u001b[39m,\u001b[38;5;241m23\u001b[39m,\u001b[38;5;241m34\u001b[39m))\n",
      "\u001b[1;31mOperationalError\u001b[0m: database is locked"
     ]
    }
   ],
   "source": [
    "cursor.execute(\"INSERT into marks (id, test_1,test_2,test_3) VALUES (?,?,?,?)\", (123456,12,23,34))"
   ]
  },
  {
   "cell_type": "code",
   "execution_count": 106,
   "metadata": {
    "tags": []
   },
   "outputs": [],
   "source": [
    "conn.rollback()"
   ]
  },
  {
   "cell_type": "code",
   "execution_count": 108,
   "metadata": {
    "tags": []
   },
   "outputs": [
    {
     "ename": "TypeError",
     "evalue": "'bool' object is not callable",
     "output_type": "error",
     "traceback": [
      "\u001b[1;31m---------------------------------------------------------------------------\u001b[0m",
      "\u001b[1;31mTypeError\u001b[0m                                 Traceback (most recent call last)",
      "Cell \u001b[1;32mIn[108], line 1\u001b[0m\n\u001b[1;32m----> 1\u001b[0m conn\u001b[38;5;241m.\u001b[39min_transaction()\n",
      "\u001b[1;31mTypeError\u001b[0m: 'bool' object is not callable"
     ]
    }
   ],
   "source": [
    "conn.in_transaction()"
   ]
  },
  {
   "cell_type": "code",
   "execution_count": null,
   "metadata": {},
   "outputs": [],
   "source": []
  }
 ],
 "metadata": {
  "kernelspec": {
   "display_name": "Python 3 (ipykernel)",
   "language": "python",
   "name": "python3"
  },
  "language_info": {
   "codemirror_mode": {
    "name": "ipython",
    "version": 3
   },
   "file_extension": ".py",
   "mimetype": "text/x-python",
   "name": "python",
   "nbconvert_exporter": "python",
   "pygments_lexer": "ipython3",
   "version": "3.11.5"
  }
 },
 "nbformat": 4,
 "nbformat_minor": 4
}
